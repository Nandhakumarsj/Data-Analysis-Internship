{
 "cells": [
  {
   "attachments": {},
   "cell_type": "markdown",
   "metadata": {},
   "source": [
    "# Face Detection and  Tracking using OpenCV\n",
    "---"
   ]
  },
  {
   "attachments": {},
   "cell_type": "markdown",
   "metadata": {},
   "source": [
    "## Importing the module and loading the Model"
   ]
  },
  {
   "cell_type": "code",
   "execution_count": 3,
   "metadata": {},
   "outputs": [
    {
     "name": "stdout",
     "output_type": "stream",
     "text": [
      "Collecting opencv-python\n",
      "  Downloading opencv_python-4.7.0.72-cp37-abi3-win_amd64.whl (38.2 MB)\n",
      "     -------------------------------------- 38.2/38.2 MB 907.9 kB/s eta 0:00:00\n",
      "Requirement already satisfied: numpy>=1.17.0 in f:\\conda\\lib\\site-packages (from opencv-python) (1.21.5)\n",
      "Installing collected packages: opencv-python\n",
      "Successfully installed opencv-python-4.7.0.72\n"
     ]
    }
   ],
   "source": [
    "# !pip install opencv-python # Run for the first time if we don't have OpenCv by uncommenting the whole line\n",
    "import cv2\n",
    "face_cascade = cv2.CascadeClassifier('models/haarcascade_frontalface_default.xml')\n",
    "print('Model Loaded')"
   ]
  },
  {
   "attachments": {},
   "cell_type": "markdown",
   "metadata": {},
   "source": [
    "---\n",
    "### Tracking the face from sample video"
   ]
  },
  {
   "cell_type": "code",
   "execution_count": 4,
   "metadata": {},
   "outputs": [],
   "source": [
    "\n",
    "cap = cv2.VideoCapture('datasets/CERN_Higgs boson_EDIT.mp4')\n",
    "while True:\n",
    "# Read the each frame\n",
    "    ok, img = cap.read()\n",
    "    if not ok:\n",
    "        print('Video Ending')\n",
    "        cap.release()\n",
    "        cv2.destroyAllWindows()\n",
    "        break \n",
    "    # Convert to grayscale\n",
    "    gray = cv2.cvtColor(img, cv2.COLOR_BGR2GRAY)\n",
    "    # Detect the faces using Cascade Model\n",
    "    faces = face_cascade.detectMultiScale(gray, 1.1,4)\n",
    "    # Draw the rectangle around each face\n",
    "    for (x, y, w, h) in faces:\n",
    "       cv2.rectangle(img, (x, y), (x+w, y+h),(0,20,255))\n",
    "    cv2.imshow('img', img)\n",
    "    # quit Press Key Q to quit and Close window\n",
    "    if cv2.waitKey(1) & 0xFF == ord('q'): \n",
    "        cap.release()\n",
    "        cv2.destroyAllWindows()\n",
    "        break\n"
   ]
  },
  {
   "attachments": {},
   "cell_type": "markdown",
   "id": "59f6251d",
   "metadata": {},
   "source": [
    "## OCR Using `tesseract`"
   ]
  },
  {
   "cell_type": "code",
   "execution_count": 8,
   "id": "a3a0fb7a",
   "metadata": {},
   "outputs": [
    {
     "name": "stdout",
     "output_type": "stream",
     "text": [
      "Image downloaded successfully as 'sample-text.jpeg'\n",
      "NOTHING\n"
     ]
    }
   ],
   "source": [
    "# For Linux\n",
    "# ............\n",
    "# !sudo apt install tesseract-ocr\n",
    "# !sudo apt-get install libleptonica-dev tesseract-ocr libtesseract-dev python3-pil tesseract-ocr-eng tesseract-ocr-script-latn\n",
    "# !pip install pytesseract tesseract-ocr\n",
    "\n",
    "# For Windows\n",
    "# ............\n",
    "# To install pytesseract model install setup from this link < https://digi.bib.uni-mannheim.de/tesseract/tesseract-ocr-w64-setup-v5.3.0.20221214.exe >\n",
    "!pip install pytesseract tesseract-ocr\n",
    "\n",
    "import requests\n",
    "import pytesseract\n",
    "from PIL import Image\n",
    "\n",
    "# Provide the URL of the image you want to download\n",
    "image_url = 'https://external-content.duckduckgo.com/iu/?u=https%3A%2F%2Ftse2.mm.bing.net%2Fth%3Fid%3DOIP.xbCiqkLPzjTe005_wUAc8QHaEK%26pid%3DApi&f=1&ipt=cbe2c102d89de27315ad3059c482188eeb76612d7d70ee8db85f6c584cbf7e10&ipo=images'\n",
    "pytesseract.pytesseract.tesseract_cmd = 'F:\\Tesseract-OCR\\tesseract.exe'\n",
    "# Send an HTTP GET request to the image URL\n",
    "response = requests.get(image_url)\n",
    "\n",
    "# Check if the request was successful (status code 200)\n",
    "if response.status_code == 200:\n",
    "    # Extract the filename from the URL\n",
    "    filename = 'sample-text.jpeg'\n",
    "    # Save the image content to a file\n",
    "    with open(filename, 'wb') as file:\n",
    "        file.write(response.content)\n",
    "    print(f\"Image downloaded successfully as '{filename}'\")\n",
    "else:\n",
    "    print(\"Failed to download the image.\")\n",
    "\n",
    "\n",
    "image = Image.open(filename)\n",
    "image.show()\n",
    "\n",
    "img = Image.open(\"./sample-text.jpeg\")\n",
    "print(pytesseract.image_to_string(img))"
   ]
  }
 ],
 "metadata": {
  "interpreter": {
   "hash": "0c2f9bbe7ce01b62feddf7ff3091619a4ac73770bcbf3ae9019540e4aac3ace6"
  },
  "kernelspec": {
   "display_name": "Python 3.9.6 64-bit ('base': conda)",
   "name": "python3"
  },
  "language_info": {
   "codemirror_mode": {
    "name": "ipython",
    "version": 3
   },
   "file_extension": ".py",
   "mimetype": "text/x-python",
   "name": "python",
   "nbconvert_exporter": "python",
   "pygments_lexer": "ipython3",
   "version": "3.9.13"
  }
 },
 "nbformat": 4,
 "nbformat_minor": 5
}
